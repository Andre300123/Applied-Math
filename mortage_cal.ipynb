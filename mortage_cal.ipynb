{
  "metadata": {
    "language_info": {
      "codemirror_mode": {
        "name": "python",
        "version": 3
      },
      "file_extension": ".py",
      "mimetype": "text/x-python",
      "name": "python",
      "nbconvert_exporter": "python",
      "pygments_lexer": "ipython3",
      "version": "3.8"
    },
    "kernelspec": {
      "name": "python",
      "display_name": "Pyolite",
      "language": "python"
    }
  },
  "nbformat_minor": 4,
  "nbformat": 4,
  "cells": [
    {
      "cell_type": "code",
      "source": "import math\n\ndef calc_mortgage(principal, interest, years):\n    \n    # monthly rate from annual percentage rate\n    interest_rate = interest/(100 * 12)\n    # total number of payments\n    payment_num = years * 12\n    # calculate monthly payment\n    payment = principal * \\\n        (interest_rate/(1-math.pow((1+interest_rate), (-payment_num))))\n    return payment\n\n\n# mortgage loan principal\nprincipal = 367890\n# percent annual interest\ninterest = 2.75\n# years to pay off mortgage\nyears = 30\n# calculate monthly payment amount\nmonthly_payment = calc_mortgage(principal, interest, years)\n# calculate total amount paid\ntotal_amount = monthly_payment * years * 12\n\n# show result ...\n# {:,} uses the comma as a thousands separator\nsf = '''\\\nFor a {} year mortgage loan of ${:,}\nat an annual interest rate of {:.2f}%\nyou pay ${:.2f} monthly'''\nprint(sf.format(years, principal, interest, monthly_payment))\nprint('-'*40)\nprint(\"Total amount paid will be ${:,.2f}\".format(total_amount))\n",
      "metadata": {
        "trusted": true
      },
      "execution_count": 4,
      "outputs": [
        {
          "name": "stdout",
          "text": "For a 30 year mortgage loan of $367,890\nat an annual interest rate of 2.75%\nyou pay $1501.88 monthly\n----------------------------------------\nTotal amount paid will be $540,676.25\n",
          "output_type": "stream"
        }
      ]
    },
    {
      "cell_type": "code",
      "source": "",
      "metadata": {},
      "execution_count": null,
      "outputs": []
    }
  ]
}