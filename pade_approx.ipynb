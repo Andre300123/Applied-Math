{
 "cells": [
  {
   "cell_type": "code",
   "execution_count": 7,
   "id": "f074f5f5-ca0a-4bdc-b43d-1e410fd5b334",
   "metadata": {},
   "outputs": [],
   "source": []
  },
  {
   "cell_type": "code",
   "execution_count": 15,
   "id": "cfc13232-73ff-4706-a6bc-a1efc82f2f02",
   "metadata": {},
   "outputs": [
    {
     "data": {
      "text/plain": [
       "1.2247446083995459705"
      ]
     },
     "execution_count": 15,
     "metadata": {},
     "output_type": "execute_result"
    }
   ],
   "source": [
    "from mpmath import *\n",
    "mp.dps = 20; mp.pretty = True\n",
    "one = mpf(2)# put in values into here\n",
    "def f(x):\n",
    "    return sqrt((one + 2*x)/(one + x))# if want specific #'s may need to import numpy\n",
    "# can change the funtion if want to\n",
    "\n",
    "a = taylor(f, 0, 6) #using taylor instead of Mac and set to what deriv have to 6\n",
    "p, q = pade(a, 3, 3)# setting to what degree we want for our pade\n",
    "x = 5\n",
    "polyval(p[::-1], x)/polyval(q[::-1], x) #making the n and m positive and our poly\n"
   ]
  },
  {
   "cell_type": "code",
   "execution_count": null,
   "id": "76c87aba-265e-4bdc-90d0-a8b10e95d195",
   "metadata": {},
   "outputs": [],
   "source": []
  }
 ],
 "metadata": {
  "kernelspec": {
   "display_name": "Python 3",
   "language": "python",
   "name": "python3"
  },
  "language_info": {
   "codemirror_mode": {
    "name": "ipython",
    "version": 3
   },
   "file_extension": ".py",
   "mimetype": "text/x-python",
   "name": "python",
   "nbconvert_exporter": "python",
   "pygments_lexer": "ipython3",
   "version": "3.7.8"
  }
 },
 "nbformat": 4,
 "nbformat_minor": 5
}
