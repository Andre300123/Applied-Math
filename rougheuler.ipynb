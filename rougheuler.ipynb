{
  "metadata": {
    "kernelspec": {
      "name": "python",
      "display_name": "Pyolite",
      "language": "python"
    },
    "language_info": {
      "codemirror_mode": {
        "name": "python",
        "version": 3
      },
      "file_extension": ".py",
      "mimetype": "text/x-python",
      "name": "python",
      "nbconvert_exporter": "python",
      "pygments_lexer": "ipython3",
      "version": "3.8"
    }
  },
  "nbformat_minor": 5,
  "nbformat": 4,
  "cells": [
    {
      "cell_type": "code",
      "source": "import numpy as np\nimport matplotlib.pyplot as plt\n\ndef f(t,y):\n    return (2-2*t*y)/(t*t +1)\ndef F_E_S(y,t,dt,f):\n    t_n = t + dt\n    y_n = y+dt*f(t_n,y_n)\n    return y_n, t_n\n\n\n\ndef rk4(y,t,dt,f):\n    k1 = dt*f(t,y)\n    k2 = dt*f(t+dt/2, y+k1/2)\n    k3 = dt*f(t+dt/2, y+k2/2)\n    k4 = dt*f(t+dt, y+k3)\n    y_n = y + (1/6)*(k1+2*k2+2*k3+k4)\n    t_n = t + dt\n    return y_n, t_n\n\nt_init = 0\nt_final = 10\ndt = 0.05\ny_init = 1\nt = [t_init]\ny = [y_init]\ny_true = [y_init]\n\nprint(\"t \\t y approx \\t y true\")\nprint(\"------------------------\")\nwhile t[-1]<t_final:\n    y_n,t_n = F_E_S(y[-1],t[-1],dt,f)\n    #y_n,t_n = rk4(y[-1],t[-1],dt,f)\n    y.append(y_n)\n    t.append(t_n)\n    y_true.append(t_n*(2*t_n+1)/(t_n*t_n+1))\n    \nplt.plot(t,y_true)\nplt.plot(t,y)\nplt.show()",
      "metadata": {
        "trusted": true
      },
      "execution_count": null,
      "outputs": [],
      "id": "ac39e10a-019a-443a-a21b-61707692984f"
    },
    {
      "cell_type": "code",
      "source": "import numpy as np\nimport matplotlib.pyplot as plt\ndef odeEuler(f,y0,t):\n     y = np.zeros(len(t))\n    y[0] = y0\n    for n in range(0,len(t)-1):\n        y[n+1] = y[n] + f(y[n+1],t[n+1])*(t[n+1] - t[n])\n    return y\nt = np.linspace(0,2,21)\ny0 = 1\nf = lambda y,t: y\ny = odeEuler(f,y0,t)\ny_true = np.exp(t)\nplt.plot(t,y,'b.-',t,y_true,'r-')\nplt.legend(['Euler','True'])\nplt.axis([0,2,0,9])\nplt.grid(True)\nplt.title(\"Solution of $y'=y , y(0)=1$\")\nplt.show()",
      "metadata": {
        "trusted": true
      },
      "execution_count": null,
      "outputs": [],
      "id": "d20ffccb-606e-4041-be52-601f412fb0fe"
    },
    {
      "cell_type": "code",
      "source": "",
      "metadata": {},
      "execution_count": null,
      "outputs": [],
      "id": "4f04237a-5ade-4482-9b42-ec13d3df9e12"
    }
  ]
}